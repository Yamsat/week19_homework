{
 "cells": [
  {
   "cell_type": "code",
   "execution_count": 1,
   "id": "714fef21",
   "metadata": {},
   "outputs": [],
   "source": [
    "import subprocess\n",
    "import json\n",
    "from dotenv import load_dotenv\n",
    "import os"
   ]
  },
  {
   "cell_type": "code",
   "execution_count": 2,
   "id": "3ebf8d88",
   "metadata": {},
   "outputs": [],
   "source": [
    "load_dotenv()\n",
    "mnemonic=os.getenv(\"mnemonic\")"
   ]
  },
  {
   "cell_type": "code",
   "execution_count": 4,
   "id": "66eddfb2",
   "metadata": {},
   "outputs": [],
   "source": [
    "import constants"
   ]
  },
  {
   "cell_type": "code",
   "execution_count": 5,
   "id": "2ab4ab58",
   "metadata": {},
   "outputs": [],
   "source": [
    "def derive_wallets(mnemonic, coin, numderive):\n",
    "    command = f'php derive -g --mnemonic=\"{mnemonic}\" --cols=path,address,privkey,pubkey --coin={coin} --numderive={numderive} --format=json'\n",
    "    p = subprocess.Popen(command, stdout=subprocess.PIPE, shell=True)\n",
    "    output, err = p.communicate()\n",
    "    p_status = p.wait()\n",
    "    return json.loads(output)"
   ]
  },
  {
   "cell_type": "code",
   "execution_count": 13,
   "id": "3c02cfcc",
   "metadata": {},
   "outputs": [
    {
     "data": {
      "text/plain": [
       "{'eth': [{'path': \"m/44'/60'/0'/0/0\",\n",
       "   'address': '0x419b41092f7bE9Fa9E0a15352dB9711CC51eD81C',\n",
       "   'privkey': '0x32a0897f3432000dd0593c4c89e9058862fd430ea496147957a6da255ab5bb30',\n",
       "   'pubkey': '028fd378d44e97b160ea0ebc75b1ae11ce07974cc36d1a5dec7be9ab8822d252eb'},\n",
       "  {'path': \"m/44'/60'/0'/0/1\",\n",
       "   'address': '0xFb86Ad9D772cfc495B04C864307Ef289c14089Cc',\n",
       "   'privkey': '0xb7fb1b3154fab832b90905cc0ee25d603577c1da58c38c98ddfa270ed58fcb52',\n",
       "   'pubkey': '03d7203d82d74c49ff4d364a9687a97ca44b5dfdbf0e63051394d013b222bc48e3'},\n",
       "  {'path': \"m/44'/60'/0'/0/2\",\n",
       "   'address': '0x7a0671702e4177d94bb9Cb6AF39D5051c30a6972',\n",
       "   'privkey': '0x012561763ce70080610555053c30063e2944da892164b6d8b79b29def4157141',\n",
       "   'pubkey': '0214b8d8845299461c97d59f26239b17270d54a27d567e4ce9bbd564342970a020'}],\n",
       " 'btc-test': [{'path': \"m/44'/1'/0'/0/0\",\n",
       "   'address': 'mj62cZABJSaquz4Vmmpv39JfQUtUoSqpuu',\n",
       "   'privkey': 'cUgotKFr1QF1YprvYXShc8omw1GpZgwirCRdRaH7BLjMEqrEXBdg',\n",
       "   'pubkey': '02954380007c2f05610abdb570fd639d0b8bfc5e8c342871145ba04f332b3e78d8'},\n",
       "  {'path': \"m/44'/1'/0'/0/1\",\n",
       "   'address': 'mhVeFuDDLfqNBcn8ZkWYVCX7te1Nieh8my',\n",
       "   'privkey': 'cRiuJ2AE4HGsX4xpwKNqbe6UqghDGT12SCb58mRuwDjfm3RUEfZM',\n",
       "   'pubkey': '021ba35a9f604b74ae31131908fdca9db24ab860389c210acecffc3186b6fb2a70'},\n",
       "  {'path': \"m/44'/1'/0'/0/2\",\n",
       "   'address': 'mzYG61Kc3TyNHPktMDVQ9nZYdEAhAFPxxS',\n",
       "   'privkey': 'cP5usndq6xfSzjdfLDa1c4TNjWYoeaAj1oezVdM7ZmVTivLTFH7m',\n",
       "   'pubkey': '02441e63fde34aa8151eef180c75b4d74a0a4c632394b27746dc0cef077d556a6a'}]}"
      ]
     },
     "execution_count": 13,
     "metadata": {},
     "output_type": "execute_result"
    }
   ],
   "source": [
    "coins = {}\n",
    "crypto = [constants.ETH, constants.BTCTEST]\n",
    "for c in crypto:\n",
    "    coins[c] = derive_wallets(mnemonic, c, 3)\n",
    "coins"
   ]
  },
  {
   "cell_type": "code",
   "execution_count": 14,
   "id": "a441aabc",
   "metadata": {},
   "outputs": [],
   "source": [
    "from web3 import Web3, eth\n",
    "from web3.middleware import geth_poa_middleware\n",
    "from bit import PrivateKeyTestnet, network\n",
    "from eth_account import Account"
   ]
  },
  {
   "cell_type": "code",
   "execution_count": 15,
   "id": "0bc51d04",
   "metadata": {},
   "outputs": [],
   "source": [
    "w3 = Web3(Web3.HTTPProvider(\"http://localhost:8545\"))\n",
    "w3.middleware_onion.inject(geth_poa_middleware, layer=0)"
   ]
  },
  {
   "cell_type": "code",
   "execution_count": 16,
   "id": "1662d02a",
   "metadata": {},
   "outputs": [],
   "source": [
    "def priv_key_to_account(coin, priv_key):\n",
    "    if coin == 'eth':\n",
    "        return Account.privateKeyToAccount(priv_key)\n",
    "    elif coin == 'btc-test':\n",
    "        return PrivateKeyTestnet(priv_key)"
   ]
  },
  {
   "cell_type": "code",
   "execution_count": 17,
   "id": "137a5c66",
   "metadata": {},
   "outputs": [],
   "source": [
    "def create_tx(coin, account, to, amount):\n",
    "    if coin == 'eth':\n",
    "        gasEstimate = w3.eth.estimateGas({\"from\": account.address, \"to\": to, \"value\": amount})\n",
    "        return {\n",
    "        \"from\": account.address,\n",
    "        \"to\": to,\n",
    "        \"value\": amount,\n",
    "        \"gasPrice\": w3.eth.gasPrice,\n",
    "        \"gas\": gasEstimate,\n",
    "        \"nonce\": w3.eth.getTransactionCount(account.address),\n",
    "        }\n",
    "    elif coin == 'btc-test':\n",
    "        return PrivateKeyTestnet.prepare_transaction(account.address, [(to, amount, 'btc')])"
   ]
  },
  {
   "cell_type": "code",
   "execution_count": 18,
   "id": "2d6dee31",
   "metadata": {},
   "outputs": [],
   "source": [
    "def send_tx(coin, account, to, amount):\n",
    "    if coin == 'eth':\n",
    "        raw_tx = create_tx(coin, account, to, amount)\n",
    "        signed_tx = account.sign_transaction(raw_tx)\n",
    "        return w3.eth.sendRawTransaction(signed_tx.rawTransaction)\n",
    "    elif coin == 'btc-test':\n",
    "        raw_tx = create_tx(coin, account, to, amount)\n",
    "        signed_tx = account.sign_transaction(raw_tx)\n",
    "        return network.NetworkAPI.broadcast_tx_testnet(signed_tx)"
   ]
  },
  {
   "cell_type": "code",
   "execution_count": 19,
   "id": "d17c1620",
   "metadata": {},
   "outputs": [],
   "source": [
    "btc_test = constants.BTCTEST\n",
    "priv = coins['btc-test'][0]['privkey']\n",
    "account = priv_key_to_account(btc_test, priv)"
   ]
  },
  {
   "cell_type": "code",
   "execution_count": 21,
   "id": "e75cab54",
   "metadata": {},
   "outputs": [
    {
     "data": {
      "text/plain": [
       "<PrivateKeyTestnet: mj62cZABJSaquz4Vmmpv39JfQUtUoSqpuu>"
      ]
     },
     "execution_count": 21,
     "metadata": {},
     "output_type": "execute_result"
    }
   ],
   "source": [
    "account"
   ]
  },
  {
   "cell_type": "code",
   "execution_count": 22,
   "id": "33203d72",
   "metadata": {},
   "outputs": [],
   "source": [
    "to = 'mhVeFuDDLfqNBcn8ZkWYVCX7te1Nieh8my'\n",
    "send_tx(btc_test, account, to, 0.00001)"
   ]
  },
  {
   "cell_type": "code",
   "execution_count": 23,
   "id": "9f54e3d9",
   "metadata": {},
   "outputs": [],
   "source": [
    "eth = constants.ETH\n",
    "priv = coins['eth'][0]['privkey']\n",
    "account = priv_key_to_account(eth, priv)"
   ]
  },
  {
   "cell_type": "code",
   "execution_count": 24,
   "id": "666efdb6",
   "metadata": {},
   "outputs": [
    {
     "data": {
      "text/plain": [
       "HexBytes('0x5856ee4c09bd3846bfbf02d840ef98731cb04c96e8d2bcb996b1aab3f64e8a32')"
      ]
     },
     "execution_count": 24,
     "metadata": {},
     "output_type": "execute_result"
    }
   ],
   "source": [
    "to = '0xFb86Ad9D772cfc495B04C864307Ef289c14089Cc'\n",
    "send_tx(eth, account, to, 5000000000000000000)"
   ]
  },
  {
   "cell_type": "code",
   "execution_count": 25,
   "id": "45423f43",
   "metadata": {},
   "outputs": [
    {
     "data": {
      "text/plain": [
       "AttributeDict({'blockHash': HexBytes('0x1c41403e25d7f91efda9d9a4e8e2d3f82ea05671e3261bab93a3c28e8ff4010c'),\n",
       " 'blockNumber': 228,\n",
       " 'contractAddress': None,\n",
       " 'cumulativeGasUsed': 21000,\n",
       " 'from': '0x419b41092f7bE9Fa9E0a15352dB9711CC51eD81C',\n",
       " 'gasUsed': 21000,\n",
       " 'logs': [],\n",
       " 'logsBloom': HexBytes('0x00000000000000000000000000000000000000000000000000000000000000000000000000000000000000000000000000000000000000000000000000000000000000000000000000000000000000000000000000000000000000000000000000000000000000000000000000000000000000000000000000000000000000000000000000000000000000000000000000000000000000000000000000000000000000000000000000000000000000000000000000000000000000000000000000000000000000000000000000000000000000000000000000000000000000000000000000000000000000000000000000000000000000000000000000000000'),\n",
       " 'status': 1,\n",
       " 'to': '0xFb86Ad9D772cfc495B04C864307Ef289c14089Cc',\n",
       " 'transactionHash': HexBytes('0x5856ee4c09bd3846bfbf02d840ef98731cb04c96e8d2bcb996b1aab3f64e8a32'),\n",
       " 'transactionIndex': 0})"
      ]
     },
     "execution_count": 25,
     "metadata": {},
     "output_type": "execute_result"
    }
   ],
   "source": [
    "w3.eth.getTransactionReceipt('0x5856ee4c09bd3846bfbf02d840ef98731cb04c96e8d2bcb996b1aab3f64e8a32')"
   ]
  },
  {
   "cell_type": "code",
   "execution_count": null,
   "id": "ae504a5a",
   "metadata": {},
   "outputs": [],
   "source": []
  }
 ],
 "metadata": {
  "kernelspec": {
   "display_name": "Python [conda env:pyvizenv] *",
   "language": "python",
   "name": "conda-env-pyvizenv-py"
  },
  "language_info": {
   "codemirror_mode": {
    "name": "ipython",
    "version": 3
   },
   "file_extension": ".py",
   "mimetype": "text/x-python",
   "name": "python",
   "nbconvert_exporter": "python",
   "pygments_lexer": "ipython3",
   "version": "3.7.10"
  }
 },
 "nbformat": 4,
 "nbformat_minor": 5
}
